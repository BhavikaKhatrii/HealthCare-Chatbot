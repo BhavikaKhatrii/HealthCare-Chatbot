{
 "cells": [
  {
   "cell_type": "code",
   "execution_count": 1,
   "id": "9987ea1a",
   "metadata": {},
   "outputs": [],
   "source": [
    "from nltk.chat.util import Chat,reflections"
   ]
  },
  {
   "cell_type": "code",
   "execution_count": 6,
   "id": "fcc40839",
   "metadata": {},
   "outputs": [
    {
     "name": "stdout",
     "output_type": "stream",
     "text": [
      "I am chatbot.Based on ur symptoms i will tell disease and suggest treatments,doctors,diet..😊😊\n",
      ">hii\n",
      "Heyy, How can I help you today?\n",
      ">headache from 2 hous\n",
      "Reduce stress.\n",
      ">ok\n",
      "Take care:),have a nice day\n",
      ">fever\n",
      "Stay in bed and rest.\n",
      "Keep yourself hydrated. ... TAke Combliflam Medicine.\n",
      "If not getting well in 5 hours contact Dr. Ramesh 9952347899\n",
      ">\n",
      ">diarrhea\n",
      "Keep yourself hydrated\n",
      " And Best medicine for diarrhea... donstal\n",
      ">appointment\n",
      "None\n",
      ">appointments\n",
      "For appointments contact betwwen 9 AM - 6 PM \n",
      ">thanks\n",
      "You are Welcome😊,Take Care..\n",
      ">quit\n",
      "Have a nice day\n"
     ]
    }
   ],
   "source": [
    "pairs = [\n",
    "    [\n",
    "        r\"hi|hello|hey\",\n",
    "        [\"Hello there!! Welcome to Health Care Chatbot.What can I do for you!!\",\"I,m glad to reach out..\\nI'm here to answer all your queries...😊😊\",\"Heyy, How can I help you today?\",]\n",
    "    ],\n",
    "    \n",
    "    [\n",
    "        r\"(?=.*fever)\",\n",
    "        [\"Stay in bed and rest.\\nKeep yourself hydrated. ... TAke Combliflam Medicine.\\nIf not getting well in 5 hours contact Dr. Ramesh 9952347899\",]\n",
    "    ],\n",
    "    \n",
    "    [\n",
    "        r\"ok|okay|kk|okk\",\n",
    "        [\"Take care:),have a nice day\",]\n",
    "    ],\n",
    "    \n",
    "    [\n",
    "        r\"(.*headache.*)\",\n",
    "        [\"Take a deep breath\",\"Get enough sleep.\",\"Don't skip meals.\",\"Exercise regularly.\",\"Reduce stress.\",\"Reduce caffeine.\",]\n",
    "    ],\n",
    "    \n",
    "    [\n",
    "        r\"cold|flu\",\n",
    "        [\"Expert doctor for Flu Or Cold.Contact for for info.. 9898986523\",]\n",
    "    ],\n",
    "    \n",
    "    [\n",
    "        r\"Diarrhea\",\n",
    "        [\"Keep yourself hydrated\\n And Best medicine for diarrhea... donstal\",]\n",
    "    ],\n",
    "    \n",
    "    [\n",
    "        r\"Skin Infections\",\n",
    "        [\"Apply cold compresses to your skin several times a day to reduce itching and inflammation.\",\"Take over-the-counter antihistamines to decrease itching.\",\"\\nUse topical creams and ointment to reduce itching and discomfort.\"]\n",
    "    ],\n",
    "    \n",
    "    [\n",
    "        r\".*Appointments\",\n",
    "        [\"For appointments contact betwwen 9 AM - 6 PM \",]\n",
    "    ],\n",
    "    \n",
    "    [\n",
    "        r\"Emergency\",\n",
    "        [\"Call At 0265-58568\",]\n",
    "    ],\n",
    "    \n",
    "    [\n",
    "        r\"(?=.*maleria)\",\n",
    "        [\"Consume ginger as much possible or ginger juice...\",]\n",
    "    ],\n",
    "    \n",
    "    [\n",
    "        r\"thank you|thankuhh|thanks|thanx|tq|thank u\",\n",
    "        [\"You are Welcome😊,Take Care..\",]\n",
    "    ],\n",
    "    \n",
    "    [\n",
    "        r\"quit\",\n",
    "        [\"Bye\",\"Have a nice day\",\"Good day..😊\",]\n",
    "    ],\n",
    "]\n",
    "\n",
    "def chatty():\n",
    "    print(\"I am chatbot.Based on ur symptoms i will tell disease and suggest treatments,doctors,diet..😊😊\")\n",
    "    chat = Chat(pairs,reflections)\n",
    "    chat.converse()\n",
    "    \n",
    "if __name__ == \"__main__\":\n",
    "    chatty()"
   ]
  },
  {
   "cell_type": "code",
   "execution_count": null,
   "id": "2570ba86",
   "metadata": {},
   "outputs": [],
   "source": []
  },
  {
   "cell_type": "code",
   "execution_count": null,
   "id": "55b01ff8",
   "metadata": {},
   "outputs": [],
   "source": []
  }
 ],
 "metadata": {
  "kernelspec": {
   "display_name": "Python 3",
   "language": "python",
   "name": "python3"
  },
  "language_info": {
   "codemirror_mode": {
    "name": "ipython",
    "version": 3
   },
   "file_extension": ".py",
   "mimetype": "text/x-python",
   "name": "python",
   "nbconvert_exporter": "python",
   "pygments_lexer": "ipython3",
   "version": "3.8.8"
  }
 },
 "nbformat": 4,
 "nbformat_minor": 5
}
